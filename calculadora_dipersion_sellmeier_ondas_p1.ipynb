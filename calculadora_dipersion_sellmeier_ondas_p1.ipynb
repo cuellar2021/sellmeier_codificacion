{
  "nbformat": 4,
  "nbformat_minor": 0,
  "metadata": {
    "colab": {
      "name": "calculadora_dipersion_sellmeier_ondas_clase_2.ipynb",
      "provenance": [],
      "collapsed_sections": []
    },
    "kernelspec": {
      "name": "python3",
      "display_name": "Python 3"
    },
    "language_info": {
      "name": "python"
    }
  },
  "cells": [
    {
      "cell_type": "code",
      "metadata": {
        "id": "A6-OTQb8SF7l"
      },
      "source": [
        "# Estamos importando las librerias necesarias\n",
        "import numpy as np # libreria para calculos\n",
        "import matplotlib.pyplot as plt # Libreria para visualización"
      ],
      "execution_count": null,
      "outputs": []
    },
    {
      "cell_type": "code",
      "metadata": {
        "colab": {
          "base_uri": "https://localhost:8080/"
        },
        "id": "GbjbMy_RTnjp",
        "outputId": "ca495078-0f7a-471b-f0a3-dcb0792c6ba4"
      },
      "source": [
        "B1 = 0.6961663\n",
        "B2 = 0.4079426\n",
        "B3 = 0.8974794\n",
        "C1 = (0.0684043)**2\n",
        "C2 = (0.1162414)**2\n",
        "C3 = (9.896161)**2\n",
        "l_onda_n = 650 # Longitud de onda en nanometros\n",
        "l_o_m = l_onda_n/1000 # Longitud de onda micrometros\n",
        "A1 = B1*l_o_m**2/(l_o_m**2-C1)\n",
        "A2 = B2*l_o_m**2/(l_o_m**2-C2)\n",
        "A3 = B3*l_o_m**2/(l_o_m**2-C3)\n",
        "n = (1+A1+A2+A3)**0.5 # Índice de refracción en función de la longitud de onda\n",
        "print('Longitud de onda = ',l_onda_n,'[nm], n=',n,', para el Si02')"
      ],
      "execution_count": null,
      "outputs": [
        {
          "output_type": "stream",
          "name": "stdout",
          "text": [
            "Longitud de onda =  650 [nm], n= 1.4565349736401405 , para el Si02\n"
          ]
        }
      ]
    },
    {
      "cell_type": "code",
      "metadata": {
        "colab": {
          "base_uri": "https://localhost:8080/",
          "height": 664
        },
        "id": "0H0JrhOE-5Bw",
        "outputId": "316e2f50-d24b-41ea-e649-43fbfe3cd326"
      },
      "source": [
        "# #@title DISPERSIÓN BAJO EL MODELO SELLMEIER { run: \"auto\" }\n",
        "lon = np.array([350,450,530,580,620,650])/1000 # Longitud de onda en micrometros\n",
        "#lon = np.arange(350,800,30)/1000 # Longitud de onda en micrometros\n",
        "A1 = B1*lon**2/(lon**2-C1)\n",
        "A2 = B2*lon**2/(lon**2-C2)\n",
        "A3 = B3*lon**2/(lon**2-C3)\n",
        "n1 = 1 # Índice para el medio no dispersivo\n",
        "n2 = (1+A1+A2+A3)**0.5 # Índice para el medio dispersivo\n",
        "#angulo_i_1 = 60 #@param {type:\"slider\", min:0, max:89, step:1}\n",
        "angulo_i_1 = 60\n",
        "theta_i_1 = angulo_i_1*np.pi/180  #Ángulo incidente en radianes\n",
        "theta_t_1 = np.arcsin((n1/n2)*np.sin(theta_i_1))\n",
        "b = 0.5\n",
        "x_1 = b*np.tan(theta_t_1) # Posiciones de incidencia en la segunda interfaz\n",
        "theta_i_2 = theta_t_1 # Ángulos de incidencia para la interfaz 2\n",
        "theta_t_2 = np.arcsin((n2/n1)*np.sin(theta_i_2))\n",
        "d = 0.5\n",
        "ps = x_1 + d*np.tan(theta_t_2) # Posición de los sensores\n",
        "print(\"Posición de los fotosensores\")\n",
        "for j in range(len(lon)):\n",
        "  print(\"Sensor # \",j+1,\",Longitud de Onda: \",lon[j]*1000,\" [nm], Posición: \",np.round(ps[j],6),\"[m]\")\n",
        "\n",
        "print(\"Distancia entre fotosensores\")\n",
        "dist = ps[1:]-ps[0:-1]\n",
        "for j in range(len(lon)-1):\n",
        "  print(\"Distancia entre sensor \",j+1,j+2,\": \",np.round(dist[j]*1e3,6),\"[mm]\")\n",
        "\n",
        "\n",
        "# Consideraciones para efectos de visualización\n",
        "plt.figure(figsize=(8,5),dpi=100)\n",
        "a_col = np.array([[1,0,1],[0,0,1],[0,1,0],[1,1,0],[1,0.7,0],[1,0,0]])#Arreglo de colores\n",
        "bi = 0.05\n",
        "plt.plot([0,-b*np.tan(theta_i_1)],[0,bi],'--k')\n",
        "x = np.linspace(-b*np.tan(theta_i_1),np.max(ps),300)\n",
        "plt.fill_between(x, 0, -b, color='blue',\n",
        "                 alpha=0.2)\n",
        "for i in range(len(lon)):\n",
        "  plt.plot([0,x_1[i]],[0,-b],color = a_col[i,:])\n",
        "  plt.plot([x_1[i],ps[i]],[-b,-b-d],color = a_col[i,:])\n",
        "  plt.axis('equal')\n",
        "  #plt.ylim(-15,-12)\n",
        "  #plt.xlim(np.min(ps),np.max(ps))\n",
        "plt.show()"
      ],
      "execution_count": null,
      "outputs": [
        {
          "output_type": "stream",
          "name": "stdout",
          "text": [
            "Posición de los fotosensores\n",
            "Sensor #  1 ,Longitud de Onda:  350.0  [nm], Posición:  1.227976 [m]\n",
            "Sensor #  2 ,Longitud de Onda:  450.0  [nm], Posición:  1.232265 [m]\n",
            "Sensor #  3 ,Longitud de Onda:  530.0  [nm], Posición:  1.234106 [m]\n",
            "Sensor #  4 ,Longitud de Onda:  580.0  [nm], Posición:  1.23491 [m]\n",
            "Sensor #  5 ,Longitud de Onda:  620.0  [nm], Posición:  1.235432 [m]\n",
            "Sensor #  6 ,Longitud de Onda:  650.0  [nm], Posición:  1.235772 [m]\n",
            "Distancia entre fotosensores\n",
            "Distancia entre sensor  1 2 :  4.289039 [mm]\n",
            "Distancia entre sensor  2 3 :  1.840903 [mm]\n",
            "Distancia entre sensor  3 4 :  0.804292 [mm]\n",
            "Distancia entre sensor  4 5 :  0.522322 [mm]\n",
            "Distancia entre sensor  5 6 :  0.33906 [mm]\n"
          ]
        },
        {
          "output_type": "display_data",
          "data": {
            "image/png": "[encoded data removed]",
            "text/plain": [
              "<Figure size 800x500 with 1 Axes>"
            ]
          },
          "metadata": {
            "needs_background": "light"
          }
        }
      ]
    }
  ]
}